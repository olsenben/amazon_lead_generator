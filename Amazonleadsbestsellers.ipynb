{
 "cells": [
  {
   "cell_type": "code",
   "execution_count": 26,
   "id": "677c5b69-4cee-493d-b61f-051b0dfe6dcc",
   "metadata": {},
   "outputs": [],
   "source": [
    "#create api object and query parameters \n",
    "import keepa\n",
    "#initialize keepa API client with API key\n",
    "key = \"3pl62cnd2u9i76h5nkd0jlrls8k8j0007dnssmf7usf8b4m6soh41omqnljbojvl\"\n",
    "api = keepa.Keepa(key)\n",
    "#list relevant category nodes\n",
    "categories = ['165796011','165793011','2972638011','2617941011','3375251','1064954',\n",
    "    '16310101','228013', '11091801','2619525011','2619533011','2335752011','16310091','10272111','3760911','1055398',\n",
    "              '172282','3760901']\n",
    "\n",
    "\n",
    "#define best sellers parameters\n",
    "query_params = {\n",
    "    'category': categories, #list of relevant categories\n",
    "    'domain': 'US', #define amazon domain as US\n",
    "    }\n",
    "#perform the query. comment this out to run a live query, leave it defined to just test data\n",
    "best_sellers = api.best_sellers_query(**query_params)"
   ]
  },
  {
   "cell_type": "code",
   "execution_count": 32,
   "id": "2600eb2f-3559-4709-a931-b7e1554dba3b",
   "metadata": {},
   "outputs": [
    {
     "data": {
      "text/plain": [
       "181941"
      ]
     },
     "execution_count": 32,
     "metadata": {},
     "output_type": "execute_result"
    }
   ],
   "source": [
    "len(best_sellers)"
   ]
  },
  {
   "cell_type": "code",
   "execution_count": 31,
   "id": "e4cf9f50-5000-467a-9371-efb2a09b2d3d",
   "metadata": {},
   "outputs": [
    {
     "name": "stdout",
     "output_type": "stream",
     "text": [
      "{}\n"
     ]
    }
   ],
   "source": [
    " # Initialize a dictionary to store ASINs with multiple FBA offers\n",
    "asins_with_multiple_fba = {}\n",
    "\n",
    "# Iterate through the best sellers list and count FBA offers for each ASIN\n",
    "for seller in best_sellers:\n",
    "    # Check if the 'asin' key exists in the seller data\n",
    "    if 'asin' in seller:\n",
    "        asin = seller['asin']  # Assuming 'asin' is a string representing the ASIN\n",
    "        # Filter by minimum units sold (assuming 'sales' represents units sold)\n",
    "        if seller.get('sales', 0) >= 50:  # Minimum units sold in the last 30 days\n",
    "            # Filter FBA offers for the ASIN\n",
    "            fba_offers = [offer for offer in seller['offers'] if offer['condition'] == 'new' and offer['fba']]\n",
    "            fba_count = len(fba_offers)\n",
    "            if fba_count > 1:\n",
    "                asins_with_multiple_fba[asin] = fba_count\n",
    "                \n",
    "print(asins_with_multiple_fba)"
   ]
  },
  {
   "cell_type": "code",
   "execution_count": 27,
   "id": "c07e609e-5efa-4916-8840-d888e01856e3",
   "metadata": {},
   "outputs": [
    {
     "name": "stdout",
     "output_type": "stream",
     "text": [
      "Error occurred: string indices must be integers, not 'str'\n"
     ]
    }
   ],
   "source": []
  },
  {
   "cell_type": "code",
   "execution_count": null,
   "id": "9471b3c9-df53-44bd-910f-645b64d13739",
   "metadata": {},
   "outputs": [],
   "source": []
  }
 ],
 "metadata": {
  "kernelspec": {
   "display_name": "Python 3 (ipykernel)",
   "language": "python",
   "name": "python3"
  },
  "language_info": {
   "codemirror_mode": {
    "name": "ipython",
    "version": 3
   },
   "file_extension": ".py",
   "mimetype": "text/x-python",
   "name": "python",
   "nbconvert_exporter": "python",
   "pygments_lexer": "ipython3",
   "version": "3.12.1"
  }
 },
 "nbformat": 4,
 "nbformat_minor": 5
}
