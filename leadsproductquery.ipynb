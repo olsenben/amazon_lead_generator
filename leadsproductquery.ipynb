{
 "cells": [
  {
   "cell_type": "code",
   "execution_count": null,
   "id": "30bad06a-4a13-4aca-93e0-3dbffd7c17e5",
   "metadata": {},
   "outputs": [],
   "source": [
    "import requests\n",
    "import urllib.parse\n",
    "import json\n",
    "import pandas as pd\n",
    "import random\n",
    "\n",
    "#define api key\n",
    "api_key = 'your_api_key'\n",
    "\n",
    "#define marketplace domain ID 1=\"US'\n",
    "domain_id = 1\n",
    "\n",
    "#generate page number\n",
    "#Keepa API uses pagination to help control the number of results returned. Max results is 10000. \n",
    "#be mindful that pagination and page results combined do not exceed 10000\n",
    "#if you request the last page for more results than it contains, your query will return zero results\n",
    "#with this query I have noted that 15 is the max number of pages with a page size of 200 that you can request\n",
    "#because the query will return the same products if run sequentially, I have added a random page generator to diversify results\n",
    "#this is in lieue of actually devising a way to check if I have requested an asin in the past before. Will revisit if n\n",
    "pg_number = random.randint(1, 15)\n",
    "\n",
    "\n",
    "#create query parameters\n",
    "query_params = {\n",
    "    \"categories_exclude\": [ #filter unwanted categories. Check Keepa category IDs for more info\n",
    "        \"668145011\", #aprons\n",
    "        \"374742011\", #sports apparel \n",
    "        \"5768995011\", #caps and hats\n",
    "        \"13727921011\", #Alexa Skills\n",
    "        \"2350149011\", #Apps & Games\n",
    "        \"18145289011\", #Audible Books & Originals\n",
    "        \"283155\", #Books\n",
    "        \"5174\", #CDs & Vinyl\n",
    "        \"7141123011\", #Clothing, Shoes & Jewelry\n",
    "        \"4991425011\", #Collectibles & Fine Art\n",
    "        \"163856011\", #Digital Music\n",
    "        \"2238192011\", #Gift Cards\n",
    "        \"11260432011\", #Handmade Products\n",
    "        \"133140011\", #Kindle Store\n",
    "        \"599858\", #Magazine Subscriptions\n",
    "        \"2625373011\", #Movies & TV\n",
    "        \"229534\", #Software\n",
    "        \"468642\", #Video Games\n",
    "        \"9013971011\" #Video Shorts\n",
    "    ],\n",
    "    \"productType\": \"0\", #physical products only\n",
    "    \"avg180_NEW_gte\": 15, #minimum price\n",
    "    \"imageCount_gte\": 1, #min image count\n",
    "    \"imageCount_lte\": 4, #max image count\n",
    "    \"current_SALES_gte\": 1000, #min sales rank\n",
    "    \"current_SALES_lte\": 100000, #max Sales Rank\n",
    "    \"avg30_SALES_gte\": 1000, #min average 30 day sales rank\n",
    "    \"avg30_SALES_lte\": 100000,  #max average 30 day sales rank\n",
    "    \"monthlySold_gte\": 50, #min monthly sales\n",
    "    \"current_RATING_gte\": 40, #min rating\n",
    "    \"current_COUNT_REVIEWS_gte\": 25, #min reviews\n",
    "    \"brand\": \"✜Bath & Body Works\", #exlcude bath and bodyworks cause theres so many listings\n",
    "    \"buyBoxSellerId\": [\n",
    "        \"-ATVPDKIKX0DER\", #exclude\n",
    "        \"-A3SLTBYT1P4ASM\" #exclude\n",
    "    ],\n",
    "    \"current_BUY_BOX_SHIPPING_gte\": 0,\n",
    "    \"offerCountFBA_gte\": 5, #min FBA offers\n",
    "    \"launchpad\": False, \n",
    "    \"itemWeight_gte\": 0,\n",
    "    \"itemWeight_lte\": 20, #max pacajage weight\n",
    "    \"isHazMat\": False,\n",
    "    \"isAdultProduct\": False,\n",
    "    \"productType\": [\n",
    "        \"0\"\n",
    "    ],\n",
    "    \"singleVariation\": True, #only return 1 asin per variation\n",
    "    \"sort\": [ #sort by sales\n",
    "        [\n",
    "            \"current_SALES\",\n",
    "            \"asc\"\n",
    "        ]\n",
    "    ],\n",
    "    \"lastOffersUpdate_gte\": 6969326,\n",
    "    \"lastRatingUpdate_gte\": 6844106,\n",
    "    \"page\": pg_number,\n",
    "    \"perPage\": 200\n",
    "}\n",
    "\n",
    "#convert query to json format \n",
    "query_json = urllib.parse.quote(json.dumps(query_params))\n",
    "\n",
    "#construct get request URL\n",
    "api_endpoint = f'https://api.keepa.com/query?key={api_key}&domain={domain_id}&selection={query_json}'\n"
   ]
  },
  {
   "cell_type": "code",
   "execution_count": 5,
   "id": "9cf3ba7b-e4c7-4a21-87a7-f8929e758ff3",
   "metadata": {},
   "outputs": [],
   "source": [
    "#send HTTP GET request\n",
    "response = requests.get(api_endpoint)\n",
    "response_data = response.json()\n",
    "\n",
    "# Parse the response JSON\n",
    "response_data = response.json()"
   ]
  },
  {
   "cell_type": "code",
   "execution_count": 6,
   "id": "4862d1e2",
   "metadata": {},
   "outputs": [
    {
     "name": "stdout",
     "output_type": "stream",
     "text": [
      "{'timestamp': 1747334983078, 'tokensLeft': 288, 'refillIn': 35097, 'refillRate': 5, 'tokenFlowReduction': 0.0, 'tokensConsumed': 12, 'processingTimeInMs': 714, 'asinList': ['B0045PTHH8', 'B00M6IQTDG', 'B008GLN0MU', 'B01MYFH61G', 'B00494P4OA', 'B002NCP8Q4', 'B07MF9RSR3', 'B09233XRSL', 'B002DVVHWO', 'B07PSLQW9P', 'B006H3O2TO', 'B07YNSQF2S', 'B01N9SQIZO', 'B073YRVG4V', 'B0052Z8Q5Y', 'B00BDNDNCA', 'B0019D5G88', 'B07LCX1YT6', 'B00MG41QME', 'B00LO1N2FE', 'B00HEYUOAG', 'B089S69DKC', 'B0779BCVNV', 'B00CX6V35U', 'B01MA3BMSG', 'B0DP8YCCLP', 'B0141GV51G', 'B001OPQ4G4', 'B01BIWNQEU', 'B00JOOXDSO', 'B00ZGSZ9NY', 'B0BX6JQBZQ', 'B01LXFYNOF', 'B00CHUGH5I', 'B006OOQFXW', 'B0778ZR4VK', 'B071LJ28XH', 'B08CQK3SQV', 'B00FFJ6GTU', 'B01HOW6PFK', 'B08KY2SS7J', 'B0091HNQJA', 'B001O8MNJI', 'B0CXNVVDCW', 'B082S3DCB3', 'B004BPA910', 'B08FF7R6W2', 'B003XD02UE', 'B004YEBVVU', 'B00DX88LB6', 'B001F34OJO', 'B01B8A6PV8', 'B015OVT1U4', 'B00N06WU9U', 'B0B52DFDK5', 'B0035J1YWG', 'B00JA6O592', 'B005OR255M', 'B01N9OIH3A', 'B002LMCFFS', 'B0025UOFA4', 'B07D3CTCWW', 'B00TBY8GRU', 'B0075SA1VI', 'B003NE4BKU', 'B07FXXDJX7', 'B01BJTCTHM', 'B073ZN3DKF', 'B06ZYRYMLX', 'B01M3PRK5V', 'B0CN1LZ2N4', 'B01KYQ142C', 'B002QDXH5O', 'B00W3VMREQ', 'B001DEJLK2', 'B008JF5JU4', 'B07X622Q48', 'B00KPTLTAQ', 'B008SFAMOI', 'B07GDVFR9K', 'B0CQBTHCB5', 'B00DX86S20', 'B07ZHPNSCH', 'B004O7GM7A', 'B00L17HWZ2', 'B001C4NJC4', 'B06WV7BCPT', 'B002U0QSFO', 'B004B7RLWS', 'B00X7H8HY4', 'B017KXOPCS', 'B00WM2Z36K', 'B00FU5HST6', 'B00U1RYMJC', 'B003MZDUDY', 'B001ET5Y52', 'B004BP8KMK', 'B00006IF83', 'B009XQ64NY', 'B01B6SNBIM', 'B00N21HG7E', 'B00FUP9NRG', 'B00YO045H6', 'B086R7Y6LF', 'B01DFG2TSG', 'B0816CMJVQ', 'B00SKPCAMS', 'B07DZMM8H3', 'B08YQNPN5K', 'B07JCSNMYB', 'B0000AE5Z7', 'B07SBXR2HD', 'B097NHST3W', 'B000N8LCDS', 'B076MC2L9F', 'B010NDUCMO', 'B004BP5IP2', 'B07D5L44Y5', 'B0C274GBW1', 'B07DTJG3X1', 'B00AA68KJC', 'B09LJ492CV', 'B01IAIC24K', 'B002SJQXY8', 'B0017RB9LY', 'B07ZGDQYP5', 'B01B8ATLA0', 'B084BNY7GP', 'B072RT5WTC', 'B0B59LZ3G3', 'B004WYB2K2', 'B01FXEYO0E', 'B002VRIKP2', 'B0147JVNV4', 'B002SF4X5I', 'B0157W59L0', 'B01LB1J9GW', 'B08C6PTDN8', 'B0829F9FRS', 'B00KC7J2QO', 'B00VS2YIG6', 'B01N4DP2K0', 'B00584HHZE', 'B07H7CQVKS', 'B08DL8NLRF', 'B00A93ZHQK', 'B01BL9JWH0', 'B0CF3Y8BCD', 'B000N8OF4G', 'B0053A3ESC', 'B0CSVRQ55D', 'B01LZ9Q3H7', 'B099QT1VFN', 'B09KHCP3K7', 'B07JB9T28K', 'B0017DFL44', 'B01M7OWK2K', 'B01NCOCS7C', 'B0023A7JF4', 'B082ZXLPNC', 'B001T5IMPK', 'B071NRXKZC', 'B0BW7Y2PGJ', 'B004IKTU1I', 'B004GIE562', 'B0BRYGWX29', 'B01J68TIY0', 'B009IF66AQ', 'B002U0QSMC', 'B00CJ7415M', 'B08PC5R5BD', 'B08TV15QZT', 'B07VPQ6FGZ', 'B01BF04798', 'B08Y93GZYX', 'B00LCXWBPG', 'B000LG8Q22', 'B0DJRS4WPS', 'B07MGK12GB', 'B07VTHM2VX', 'B00AXEJOQ4', 'B07M7PTYPJ', 'B004XZS1YU', 'B0091GQFC6', 'B0751GHM1G', 'B001EL5TH8', 'B001NJL89O', 'B008L2QQBG', 'B0D4QW72KN', 'B004BP7IQE', 'B01156G3CQ', 'B01N34QEIU', 'B005OMUOGE', 'B08Z48PYH8', 'B08D6W6YY1', 'B008C27YLQ', 'B0CDFC64ZH', 'B006HYM010', 'B09J91Y9YB', 'B0025WWFOU'], 'totalResults': 3240}\n"
     ]
    }
   ],
   "source": [
    "print(response_data)"
   ]
  },
  {
   "cell_type": "code",
   "execution_count": 3,
   "id": "ae608e73-3c63-4af3-9d46-3f516e2db710",
   "metadata": {},
   "outputs": [],
   "source": [
    "#create dataframe of ASINS from parsed response\n",
    "df= pd.DataFrame(response_data['asinList'], columns=['asinList'])\n",
    "\n",
    "#Add column with link to asin\n",
    "df['asinLink'] = df['asinList'].apply(lambda x: \"https://www.amazon.com/dp/\" + x)\n"
   ]
  },
  {
   "cell_type": "code",
   "execution_count": 4,
   "id": "dc5426bd-ff2a-40e4-939d-c5896f669708",
   "metadata": {},
   "outputs": [],
   "source": [
    "import requests\n",
    "from bs4 import BeautifulSoup\n",
    "from tqdm import tqdm\n",
    "\n",
    "# Set up the progress bar for DataFrame's apply method\n",
    "tqdm.pandas(desc=\"Checking brand registration\")\n",
    "\n",
    "#function to scrape the page from the asin link and look for storefront \n",
    "def is_brand_registered(asin_url):\n",
    "    try:\n",
    "        # Fetch the HTML content of the product page with scrapeops proxy\n",
    "        response = requests.get(\n",
    "            url = 'https://proxy.scrapeops.io/v1/',\n",
    "            params = {\n",
    "                'api_key' : 'your_api_key',\n",
    "                'url' : asin_url,\n",
    "            },\n",
    "            timeout=30  # Set timeout to avoid hanging requests\n",
    "        )\n",
    "        #store html retrieved by scrapeops\n",
    "        soup = BeautifulSoup(response.content, 'html.parser')\n",
    "\n",
    "        # Check for the presence of \"visit the [brand name] store\" text by element tag <a>, id \"bylineInfo\", class \"a-link-normal\"\n",
    "        store_text = soup.find(\"a\", {\"id\": \"bylineInfo\", \"class\": \"a-link-normal\"}, string=lambda text: text and \"Visit the \" in text and \" Store\" in text)\n",
    "        return bool(store_text)\n",
    "    \n",
    "    except requests.exceptions.RequestException as e:\n",
    "        print(f\"Request error for {asin_url}: {e}\")\n",
    "    except Exception as e:\n",
    "        print(f\"Error fetching or parsing page {asin_url}: {e}\")\n",
    "    \n",
    "    return False\n",
    "\n",
    "\n",
    "\n"
   ]
  },
  {
   "cell_type": "code",
   "execution_count": 5,
   "id": "7a32f2a3-0e34-4622-9004-10c969437f4f",
   "metadata": {},
   "outputs": [
    {
     "name": "stderr",
     "output_type": "stream",
     "text": [
      "Checking brand registration: 100%|███████████████████████████████████████████████████| 200/200 [24:43<00:00,  7.42s/it]\n"
     ]
    }
   ],
   "source": [
    "# Filter ASINs associated with brand registered brands\n",
    "filtered_asins = df[~df['asinLink'].progress_apply(is_brand_registered)]\n"
   ]
  },
  {
   "cell_type": "code",
   "execution_count": null,
   "id": "c27d6664-e78f-4792-b71e-2415b371b5cb",
   "metadata": {},
   "outputs": [],
   "source": [
    "import os\n",
    "from datetime import datetime\n",
    "\n",
    "def save_to_csv_with_unique_name(dataframe, base_path):\n",
    "    #save dataframe to csv with a unique name if the filename already exists\n",
    "    #params: \n",
    "    #-dataframe: dataframe to export\n",
    "    #-base_path: directory to export to\n",
    "\n",
    "    #returns\n",
    "    #-final file path for exporting\n",
    "    directory, base_filename = os.path.split(base_path)\n",
    "    name, ext = os.path.splitext(base_filename)\n",
    "\n",
    "    #check that directory exists\n",
    "    if directory and not os.path.exists(directory):\n",
    "        os.makedirs(directory) \n",
    "    final_path = base_path\n",
    "    counter = 1\n",
    "\n",
    "   # Generate a new name if the file already exists\n",
    "    while os.path.exists(final_path):\n",
    "        timestamp = datetime.now().strftime(\"%Y%m%d_%H%M%S\")\n",
    "        final_path = os.path.join(directory, f\"{name}_{timestamp}_{counter}{ext}\")\n",
    "        counter += 1\n",
    "        \n",
    "\n",
    "    # Save the file\n",
    "    dataframe.to_csv(final_path, index=False)\n",
    "    print(f\"File saved as: {final_path}\")\n",
    "    return final_path"
   ]
  },
  {
   "cell_type": "code",
   "execution_count": 7,
   "id": "31180b60-5de1-4969-8acb-db4a177254c8",
   "metadata": {},
   "outputs": [
    {
     "name": "stdout",
     "output_type": "stream",
     "text": [
      "File saved as: C:\\Users\\benol\\Downloads\\filtered_asins_20241125_165451_1.csv\n"
     ]
    },
    {
     "data": {
      "text/plain": [
       "'C:\\\\Users\\\\benol\\\\Downloads\\\\filtered_asins_20241125_165451_1.csv'"
      ]
     },
     "execution_count": 7,
     "metadata": {},
     "output_type": "execute_result"
    }
   ],
   "source": [
    "#directory for export\n",
    "base_path = r'C:\\Users\\benol\\Downloads\\filtered_asins.csv'\n",
    "\n",
    "\n",
    "save_to_csv_with_unique_name(filtered_asins, base_path)"
   ]
  },
  {
   "cell_type": "code",
   "execution_count": null,
   "id": "a2bbcc6e-a3ab-49a5-8e37-587507294db6",
   "metadata": {},
   "outputs": [],
   "source": []
  }
 ],
 "metadata": {
  "kernelspec": {
   "display_name": "Python 3",
   "language": "python",
   "name": "python3"
  },
  "language_info": {
   "codemirror_mode": {
    "name": "ipython",
    "version": 3
   },
   "file_extension": ".py",
   "mimetype": "text/x-python",
   "name": "python",
   "nbconvert_exporter": "python",
   "pygments_lexer": "ipython3",
   "version": "3.12.1"
  }
 },
 "nbformat": 4,
 "nbformat_minor": 5
}
